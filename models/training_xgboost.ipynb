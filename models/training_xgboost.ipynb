{
 "cells": [
  {
   "cell_type": "code",
   "execution_count": 1,
   "metadata": {},
   "outputs": [],
   "source": [
    "# Define libraries\n",
    "import pandas as pd\n",
    "import numpy as np\n",
    "import joblib\n",
    "\n",
    "from xgboost import XGBClassifier\n",
    "from sklearn.model_selection import train_test_split, GridSearchCV\n",
    "from sklearn.preprocessing import StandardScaler, OneHotEncoder\n",
    "from sklearn.impute import SimpleImputer\n",
    "from sklearn.compose import ColumnTransformer\n",
    "from sklearn.metrics import classification_report, confusion_matrix, accuracy_score\n",
    "from imblearn.pipeline import Pipeline  \n",
    "from imblearn.under_sampling import RandomUnderSampler"
   ]
  },
  {
   "cell_type": "code",
   "execution_count": 2,
   "metadata": {},
   "outputs": [],
   "source": [
    "# Load your data\n",
    "df = pd.read_csv('../data/transactions_users_100.csv')"
   ]
  },
  {
   "cell_type": "code",
   "execution_count": 3,
   "metadata": {},
   "outputs": [],
   "source": [
    "# Define categorical and numerical columns\n",
    "categorical_features = ['Use Chip', 'Merchant State', 'Errors?', 'time_of_day','Has Chip','International','Online','day_of_week']\n",
    "numerical_features = [\n",
    "    'Amount', 'Per Capita Income - Zipcode', 'Yearly Income - Person', 'Total Debt', \n",
    "    'FICO Score', 'Num Credit Cards' , 'Cards Issued', 'Age_at_transaction', 'income_to_debt' , 'distances'\n",
    "]"
   ]
  },
  {
   "cell_type": "code",
   "execution_count": 4,
   "metadata": {},
   "outputs": [],
   "source": [
    "# Define the target variable\n",
    "target = 'Is Fraud?'"
   ]
  },
  {
   "cell_type": "code",
   "execution_count": 5,
   "metadata": {},
   "outputs": [],
   "source": [
    "# Preprocessing for numerical data\n",
    "numeric_transformer = Pipeline(steps=[\n",
    "    ('imputer', SimpleImputer(strategy='median')),\n",
    "    ('scaler', StandardScaler())\n",
    "])\n",
    "\n",
    "# Preprocessing for categorical data\n",
    "categorical_transformer = Pipeline(steps=[\n",
    "    ('imputer', SimpleImputer(strategy='most_frequent')),\n",
    "    ('onehot', OneHotEncoder(handle_unknown='ignore'))\n",
    "])\n",
    "\n",
    "# Bundle preprocessing for numerical and categorical data\n",
    "preprocessor = ColumnTransformer(\n",
    "    transformers=[\n",
    "        ('num', numeric_transformer, numerical_features),\n",
    "        ('cat', categorical_transformer, categorical_features)\n",
    "    ])\n",
    "\n",
    "# Define the model\n",
    "model = XGBClassifier(random_state=42, use_label_encoder=False, eval_metric='logloss')\n",
    "\n",
    "# Create the pipeline with RandomUnderSampler and preprocessing\n",
    "pipeline = Pipeline(steps=[\n",
    "        ('preprocessor', preprocessor),\n",
    "        ('undersampler', RandomUnderSampler(random_state=42)),\n",
    "        ('classifier', model)\n",
    "    ])"
   ]
  },
  {
   "cell_type": "code",
   "execution_count": 6,
   "metadata": {},
   "outputs": [],
   "source": [
    "# Split the data into training and testing sets\n",
    "X = df.drop(columns=[target])\n",
    "y = df[target]\n",
    "X_train, X_test, y_train, y_test = train_test_split(X, y, test_size=0.2, random_state=42)"
   ]
  },
  {
   "cell_type": "code",
   "execution_count": 7,
   "metadata": {},
   "outputs": [],
   "source": [
    "# Hyperparameter tuning using GridSearchCV\n",
    "param_grid = {\n",
    "    'classifier__n_estimators': [100, 200],\n",
    "    'classifier__max_depth': [3, 6, 10],\n",
    "    'classifier__learning_rate': [0.01, 0.1, 0.2],\n",
    "    'classifier__subsample': [0.8, 1.0],\n",
    "    'classifier__colsample_bytree': [0.8, 1.0]\n",
    "}"
   ]
  },
  {
   "cell_type": "code",
   "execution_count": 8,
   "metadata": {},
   "outputs": [],
   "source": [
    "import warnings\n",
    "warnings.filterwarnings(\"ignore\")"
   ]
  },
  {
   "cell_type": "code",
   "execution_count": 9,
   "metadata": {},
   "outputs": [
    {
     "data": {
      "text/html": [
       "<style>#sk-container-id-1 {color: black;background-color: white;}#sk-container-id-1 pre{padding: 0;}#sk-container-id-1 div.sk-toggleable {background-color: white;}#sk-container-id-1 label.sk-toggleable__label {cursor: pointer;display: block;width: 100%;margin-bottom: 0;padding: 0.3em;box-sizing: border-box;text-align: center;}#sk-container-id-1 label.sk-toggleable__label-arrow:before {content: \"▸\";float: left;margin-right: 0.25em;color: #696969;}#sk-container-id-1 label.sk-toggleable__label-arrow:hover:before {color: black;}#sk-container-id-1 div.sk-estimator:hover label.sk-toggleable__label-arrow:before {color: black;}#sk-container-id-1 div.sk-toggleable__content {max-height: 0;max-width: 0;overflow: hidden;text-align: left;background-color: #f0f8ff;}#sk-container-id-1 div.sk-toggleable__content pre {margin: 0.2em;color: black;border-radius: 0.25em;background-color: #f0f8ff;}#sk-container-id-1 input.sk-toggleable__control:checked~div.sk-toggleable__content {max-height: 200px;max-width: 100%;overflow: auto;}#sk-container-id-1 input.sk-toggleable__control:checked~label.sk-toggleable__label-arrow:before {content: \"▾\";}#sk-container-id-1 div.sk-estimator input.sk-toggleable__control:checked~label.sk-toggleable__label {background-color: #d4ebff;}#sk-container-id-1 div.sk-label input.sk-toggleable__control:checked~label.sk-toggleable__label {background-color: #d4ebff;}#sk-container-id-1 input.sk-hidden--visually {border: 0;clip: rect(1px 1px 1px 1px);clip: rect(1px, 1px, 1px, 1px);height: 1px;margin: -1px;overflow: hidden;padding: 0;position: absolute;width: 1px;}#sk-container-id-1 div.sk-estimator {font-family: monospace;background-color: #f0f8ff;border: 1px dotted black;border-radius: 0.25em;box-sizing: border-box;margin-bottom: 0.5em;}#sk-container-id-1 div.sk-estimator:hover {background-color: #d4ebff;}#sk-container-id-1 div.sk-parallel-item::after {content: \"\";width: 100%;border-bottom: 1px solid gray;flex-grow: 1;}#sk-container-id-1 div.sk-label:hover label.sk-toggleable__label {background-color: #d4ebff;}#sk-container-id-1 div.sk-serial::before {content: \"\";position: absolute;border-left: 1px solid gray;box-sizing: border-box;top: 0;bottom: 0;left: 50%;z-index: 0;}#sk-container-id-1 div.sk-serial {display: flex;flex-direction: column;align-items: center;background-color: white;padding-right: 0.2em;padding-left: 0.2em;position: relative;}#sk-container-id-1 div.sk-item {position: relative;z-index: 1;}#sk-container-id-1 div.sk-parallel {display: flex;align-items: stretch;justify-content: center;background-color: white;position: relative;}#sk-container-id-1 div.sk-item::before, #sk-container-id-1 div.sk-parallel-item::before {content: \"\";position: absolute;border-left: 1px solid gray;box-sizing: border-box;top: 0;bottom: 0;left: 50%;z-index: -1;}#sk-container-id-1 div.sk-parallel-item {display: flex;flex-direction: column;z-index: 1;position: relative;background-color: white;}#sk-container-id-1 div.sk-parallel-item:first-child::after {align-self: flex-end;width: 50%;}#sk-container-id-1 div.sk-parallel-item:last-child::after {align-self: flex-start;width: 50%;}#sk-container-id-1 div.sk-parallel-item:only-child::after {width: 0;}#sk-container-id-1 div.sk-dashed-wrapped {border: 1px dashed gray;margin: 0 0.4em 0.5em 0.4em;box-sizing: border-box;padding-bottom: 0.4em;background-color: white;}#sk-container-id-1 div.sk-label label {font-family: monospace;font-weight: bold;display: inline-block;line-height: 1.2em;}#sk-container-id-1 div.sk-label-container {text-align: center;}#sk-container-id-1 div.sk-container {/* jupyter's `normalize.less` sets `[hidden] { display: none; }` but bootstrap.min.css set `[hidden] { display: none !important; }` so we also need the `!important` here to be able to override the default hidden behavior on the sphinx rendered scikit-learn.org. See: https://github.com/scikit-learn/scikit-learn/issues/21755 */display: inline-block !important;position: relative;}#sk-container-id-1 div.sk-text-repr-fallback {display: none;}</style><div id=\"sk-container-id-1\" class=\"sk-top-container\"><div class=\"sk-text-repr-fallback\"><pre>GridSearchCV(cv=5, error_score=&#x27;raise&#x27;,\n",
       "             estimator=Pipeline(steps=[(&#x27;preprocessor&#x27;,\n",
       "                                        ColumnTransformer(transformers=[(&#x27;num&#x27;,\n",
       "                                                                         Pipeline(steps=[(&#x27;imputer&#x27;,\n",
       "                                                                                          SimpleImputer(strategy=&#x27;median&#x27;)),\n",
       "                                                                                         (&#x27;scaler&#x27;,\n",
       "                                                                                          StandardScaler())]),\n",
       "                                                                         [&#x27;Amount&#x27;,\n",
       "                                                                          &#x27;Per &#x27;\n",
       "                                                                          &#x27;Capita &#x27;\n",
       "                                                                          &#x27;Income &#x27;\n",
       "                                                                          &#x27;- &#x27;\n",
       "                                                                          &#x27;Zipcode&#x27;,\n",
       "                                                                          &#x27;Yearly &#x27;\n",
       "                                                                          &#x27;Income &#x27;\n",
       "                                                                          &#x27;- &#x27;\n",
       "                                                                          &#x27;Person&#x27;,\n",
       "                                                                          &#x27;Total &#x27;\n",
       "                                                                          &#x27;Debt&#x27;,\n",
       "                                                                          &#x27;FICO &#x27;\n",
       "                                                                          &#x27;Score&#x27;,\n",
       "                                                                          &#x27;Num &#x27;\n",
       "                                                                          &#x27;Credit &#x27;\n",
       "                                                                          &#x27;Cards&#x27;,\n",
       "                                                                          &#x27;Cards &#x27;\n",
       "                                                                          &#x27;Issued&#x27;,\n",
       "                                                                          &#x27;Ag...\n",
       "                                                      monotone_constraints=None,\n",
       "                                                      multi_strategy=None,\n",
       "                                                      n_estimators=None,\n",
       "                                                      n_jobs=None,\n",
       "                                                      num_parallel_tree=None,\n",
       "                                                      random_state=42, ...))]),\n",
       "             n_jobs=1,\n",
       "             param_grid={&#x27;classifier__colsample_bytree&#x27;: [0.8, 1.0],\n",
       "                         &#x27;classifier__learning_rate&#x27;: [0.01, 0.1, 0.2],\n",
       "                         &#x27;classifier__max_depth&#x27;: [3, 6, 10],\n",
       "                         &#x27;classifier__n_estimators&#x27;: [100, 200],\n",
       "                         &#x27;classifier__subsample&#x27;: [0.8, 1.0]},\n",
       "             scoring=&#x27;accuracy&#x27;)</pre><b>In a Jupyter environment, please rerun this cell to show the HTML representation or trust the notebook. <br />On GitHub, the HTML representation is unable to render, please try loading this page with nbviewer.org.</b></div><div class=\"sk-container\" hidden><div class=\"sk-item sk-dashed-wrapped\"><div class=\"sk-label-container\"><div class=\"sk-label sk-toggleable\"><input class=\"sk-toggleable__control sk-hidden--visually\" id=\"sk-estimator-id-1\" type=\"checkbox\" ><label for=\"sk-estimator-id-1\" class=\"sk-toggleable__label sk-toggleable__label-arrow\">GridSearchCV</label><div class=\"sk-toggleable__content\"><pre>GridSearchCV(cv=5, error_score=&#x27;raise&#x27;,\n",
       "             estimator=Pipeline(steps=[(&#x27;preprocessor&#x27;,\n",
       "                                        ColumnTransformer(transformers=[(&#x27;num&#x27;,\n",
       "                                                                         Pipeline(steps=[(&#x27;imputer&#x27;,\n",
       "                                                                                          SimpleImputer(strategy=&#x27;median&#x27;)),\n",
       "                                                                                         (&#x27;scaler&#x27;,\n",
       "                                                                                          StandardScaler())]),\n",
       "                                                                         [&#x27;Amount&#x27;,\n",
       "                                                                          &#x27;Per &#x27;\n",
       "                                                                          &#x27;Capita &#x27;\n",
       "                                                                          &#x27;Income &#x27;\n",
       "                                                                          &#x27;- &#x27;\n",
       "                                                                          &#x27;Zipcode&#x27;,\n",
       "                                                                          &#x27;Yearly &#x27;\n",
       "                                                                          &#x27;Income &#x27;\n",
       "                                                                          &#x27;- &#x27;\n",
       "                                                                          &#x27;Person&#x27;,\n",
       "                                                                          &#x27;Total &#x27;\n",
       "                                                                          &#x27;Debt&#x27;,\n",
       "                                                                          &#x27;FICO &#x27;\n",
       "                                                                          &#x27;Score&#x27;,\n",
       "                                                                          &#x27;Num &#x27;\n",
       "                                                                          &#x27;Credit &#x27;\n",
       "                                                                          &#x27;Cards&#x27;,\n",
       "                                                                          &#x27;Cards &#x27;\n",
       "                                                                          &#x27;Issued&#x27;,\n",
       "                                                                          &#x27;Ag...\n",
       "                                                      monotone_constraints=None,\n",
       "                                                      multi_strategy=None,\n",
       "                                                      n_estimators=None,\n",
       "                                                      n_jobs=None,\n",
       "                                                      num_parallel_tree=None,\n",
       "                                                      random_state=42, ...))]),\n",
       "             n_jobs=1,\n",
       "             param_grid={&#x27;classifier__colsample_bytree&#x27;: [0.8, 1.0],\n",
       "                         &#x27;classifier__learning_rate&#x27;: [0.01, 0.1, 0.2],\n",
       "                         &#x27;classifier__max_depth&#x27;: [3, 6, 10],\n",
       "                         &#x27;classifier__n_estimators&#x27;: [100, 200],\n",
       "                         &#x27;classifier__subsample&#x27;: [0.8, 1.0]},\n",
       "             scoring=&#x27;accuracy&#x27;)</pre></div></div></div><div class=\"sk-parallel\"><div class=\"sk-parallel-item\"><div class=\"sk-item\"><div class=\"sk-label-container\"><div class=\"sk-label sk-toggleable\"><input class=\"sk-toggleable__control sk-hidden--visually\" id=\"sk-estimator-id-2\" type=\"checkbox\" ><label for=\"sk-estimator-id-2\" class=\"sk-toggleable__label sk-toggleable__label-arrow\">estimator: Pipeline</label><div class=\"sk-toggleable__content\"><pre>Pipeline(steps=[(&#x27;preprocessor&#x27;,\n",
       "                 ColumnTransformer(transformers=[(&#x27;num&#x27;,\n",
       "                                                  Pipeline(steps=[(&#x27;imputer&#x27;,\n",
       "                                                                   SimpleImputer(strategy=&#x27;median&#x27;)),\n",
       "                                                                  (&#x27;scaler&#x27;,\n",
       "                                                                   StandardScaler())]),\n",
       "                                                  [&#x27;Amount&#x27;,\n",
       "                                                   &#x27;Per Capita Income - &#x27;\n",
       "                                                   &#x27;Zipcode&#x27;,\n",
       "                                                   &#x27;Yearly Income - Person&#x27;,\n",
       "                                                   &#x27;Total Debt&#x27;, &#x27;FICO Score&#x27;,\n",
       "                                                   &#x27;Num Credit Cards&#x27;,\n",
       "                                                   &#x27;Cards Issued&#x27;,\n",
       "                                                   &#x27;Age_at_transaction&#x27;,\n",
       "                                                   &#x27;income_to_debt&#x27;,\n",
       "                                                   &#x27;distances&#x27;]),\n",
       "                                                 (&#x27;cat&#x27;,\n",
       "                                                  Pipeline(steps...\n",
       "                               feature_types=None, gamma=None, grow_policy=None,\n",
       "                               importance_type=None,\n",
       "                               interaction_constraints=None, learning_rate=None,\n",
       "                               max_bin=None, max_cat_threshold=None,\n",
       "                               max_cat_to_onehot=None, max_delta_step=None,\n",
       "                               max_depth=None, max_leaves=None,\n",
       "                               min_child_weight=None, missing=nan,\n",
       "                               monotone_constraints=None, multi_strategy=None,\n",
       "                               n_estimators=None, n_jobs=None,\n",
       "                               num_parallel_tree=None, random_state=42, ...))])</pre></div></div></div><div class=\"sk-serial\"><div class=\"sk-item\"><div class=\"sk-serial\"><div class=\"sk-item sk-dashed-wrapped\"><div class=\"sk-label-container\"><div class=\"sk-label sk-toggleable\"><input class=\"sk-toggleable__control sk-hidden--visually\" id=\"sk-estimator-id-3\" type=\"checkbox\" ><label for=\"sk-estimator-id-3\" class=\"sk-toggleable__label sk-toggleable__label-arrow\">preprocessor: ColumnTransformer</label><div class=\"sk-toggleable__content\"><pre>ColumnTransformer(transformers=[(&#x27;num&#x27;,\n",
       "                                 Pipeline(steps=[(&#x27;imputer&#x27;,\n",
       "                                                  SimpleImputer(strategy=&#x27;median&#x27;)),\n",
       "                                                 (&#x27;scaler&#x27;, StandardScaler())]),\n",
       "                                 [&#x27;Amount&#x27;, &#x27;Per Capita Income - Zipcode&#x27;,\n",
       "                                  &#x27;Yearly Income - Person&#x27;, &#x27;Total Debt&#x27;,\n",
       "                                  &#x27;FICO Score&#x27;, &#x27;Num Credit Cards&#x27;,\n",
       "                                  &#x27;Cards Issued&#x27;, &#x27;Age_at_transaction&#x27;,\n",
       "                                  &#x27;income_to_debt&#x27;, &#x27;distances&#x27;]),\n",
       "                                (&#x27;cat&#x27;,\n",
       "                                 Pipeline(steps=[(&#x27;imputer&#x27;,\n",
       "                                                  SimpleImputer(strategy=&#x27;most_frequent&#x27;)),\n",
       "                                                 (&#x27;onehot&#x27;,\n",
       "                                                  OneHotEncoder(handle_unknown=&#x27;ignore&#x27;))]),\n",
       "                                 [&#x27;Use Chip&#x27;, &#x27;Merchant State&#x27;, &#x27;Errors?&#x27;,\n",
       "                                  &#x27;time_of_day&#x27;, &#x27;Has Chip&#x27;, &#x27;International&#x27;,\n",
       "                                  &#x27;Online&#x27;, &#x27;day_of_week&#x27;])])</pre></div></div></div><div class=\"sk-parallel\"><div class=\"sk-parallel-item\"><div class=\"sk-item\"><div class=\"sk-label-container\"><div class=\"sk-label sk-toggleable\"><input class=\"sk-toggleable__control sk-hidden--visually\" id=\"sk-estimator-id-4\" type=\"checkbox\" ><label for=\"sk-estimator-id-4\" class=\"sk-toggleable__label sk-toggleable__label-arrow\">num</label><div class=\"sk-toggleable__content\"><pre>[&#x27;Amount&#x27;, &#x27;Per Capita Income - Zipcode&#x27;, &#x27;Yearly Income - Person&#x27;, &#x27;Total Debt&#x27;, &#x27;FICO Score&#x27;, &#x27;Num Credit Cards&#x27;, &#x27;Cards Issued&#x27;, &#x27;Age_at_transaction&#x27;, &#x27;income_to_debt&#x27;, &#x27;distances&#x27;]</pre></div></div></div><div class=\"sk-serial\"><div class=\"sk-item\"><div class=\"sk-serial\"><div class=\"sk-item\"><div class=\"sk-estimator sk-toggleable\"><input class=\"sk-toggleable__control sk-hidden--visually\" id=\"sk-estimator-id-5\" type=\"checkbox\" ><label for=\"sk-estimator-id-5\" class=\"sk-toggleable__label sk-toggleable__label-arrow\">SimpleImputer</label><div class=\"sk-toggleable__content\"><pre>SimpleImputer(strategy=&#x27;median&#x27;)</pre></div></div></div><div class=\"sk-item\"><div class=\"sk-estimator sk-toggleable\"><input class=\"sk-toggleable__control sk-hidden--visually\" id=\"sk-estimator-id-6\" type=\"checkbox\" ><label for=\"sk-estimator-id-6\" class=\"sk-toggleable__label sk-toggleable__label-arrow\">StandardScaler</label><div class=\"sk-toggleable__content\"><pre>StandardScaler()</pre></div></div></div></div></div></div></div></div><div class=\"sk-parallel-item\"><div class=\"sk-item\"><div class=\"sk-label-container\"><div class=\"sk-label sk-toggleable\"><input class=\"sk-toggleable__control sk-hidden--visually\" id=\"sk-estimator-id-7\" type=\"checkbox\" ><label for=\"sk-estimator-id-7\" class=\"sk-toggleable__label sk-toggleable__label-arrow\">cat</label><div class=\"sk-toggleable__content\"><pre>[&#x27;Use Chip&#x27;, &#x27;Merchant State&#x27;, &#x27;Errors?&#x27;, &#x27;time_of_day&#x27;, &#x27;Has Chip&#x27;, &#x27;International&#x27;, &#x27;Online&#x27;, &#x27;day_of_week&#x27;]</pre></div></div></div><div class=\"sk-serial\"><div class=\"sk-item\"><div class=\"sk-serial\"><div class=\"sk-item\"><div class=\"sk-estimator sk-toggleable\"><input class=\"sk-toggleable__control sk-hidden--visually\" id=\"sk-estimator-id-8\" type=\"checkbox\" ><label for=\"sk-estimator-id-8\" class=\"sk-toggleable__label sk-toggleable__label-arrow\">SimpleImputer</label><div class=\"sk-toggleable__content\"><pre>SimpleImputer(strategy=&#x27;most_frequent&#x27;)</pre></div></div></div><div class=\"sk-item\"><div class=\"sk-estimator sk-toggleable\"><input class=\"sk-toggleable__control sk-hidden--visually\" id=\"sk-estimator-id-9\" type=\"checkbox\" ><label for=\"sk-estimator-id-9\" class=\"sk-toggleable__label sk-toggleable__label-arrow\">OneHotEncoder</label><div class=\"sk-toggleable__content\"><pre>OneHotEncoder(handle_unknown=&#x27;ignore&#x27;)</pre></div></div></div></div></div></div></div></div></div></div><div class=\"sk-item\"><div class=\"sk-estimator sk-toggleable\"><input class=\"sk-toggleable__control sk-hidden--visually\" id=\"sk-estimator-id-10\" type=\"checkbox\" ><label for=\"sk-estimator-id-10\" class=\"sk-toggleable__label sk-toggleable__label-arrow\">RandomUnderSampler</label><div class=\"sk-toggleable__content\"><pre>RandomUnderSampler(random_state=42)</pre></div></div></div><div class=\"sk-item\"><div class=\"sk-estimator sk-toggleable\"><input class=\"sk-toggleable__control sk-hidden--visually\" id=\"sk-estimator-id-11\" type=\"checkbox\" ><label for=\"sk-estimator-id-11\" class=\"sk-toggleable__label sk-toggleable__label-arrow\">XGBClassifier</label><div class=\"sk-toggleable__content\"><pre>XGBClassifier(base_score=None, booster=None, callbacks=None,\n",
       "              colsample_bylevel=None, colsample_bynode=None,\n",
       "              colsample_bytree=None, device=None, early_stopping_rounds=None,\n",
       "              enable_categorical=False, eval_metric=&#x27;logloss&#x27;,\n",
       "              feature_types=None, gamma=None, grow_policy=None,\n",
       "              importance_type=None, interaction_constraints=None,\n",
       "              learning_rate=None, max_bin=None, max_cat_threshold=None,\n",
       "              max_cat_to_onehot=None, max_delta_step=None, max_depth=None,\n",
       "              max_leaves=None, min_child_weight=None, missing=nan,\n",
       "              monotone_constraints=None, multi_strategy=None, n_estimators=None,\n",
       "              n_jobs=None, num_parallel_tree=None, random_state=42, ...)</pre></div></div></div></div></div></div></div></div></div></div></div></div>"
      ],
      "text/plain": [
       "GridSearchCV(cv=5, error_score='raise',\n",
       "             estimator=Pipeline(steps=[('preprocessor',\n",
       "                                        ColumnTransformer(transformers=[('num',\n",
       "                                                                         Pipeline(steps=[('imputer',\n",
       "                                                                                          SimpleImputer(strategy='median')),\n",
       "                                                                                         ('scaler',\n",
       "                                                                                          StandardScaler())]),\n",
       "                                                                         ['Amount',\n",
       "                                                                          'Per '\n",
       "                                                                          'Capita '\n",
       "                                                                          'Income '\n",
       "                                                                          '- '\n",
       "                                                                          'Zipcode',\n",
       "                                                                          'Yearly '\n",
       "                                                                          'Income '\n",
       "                                                                          '- '\n",
       "                                                                          'Person',\n",
       "                                                                          'Total '\n",
       "                                                                          'Debt',\n",
       "                                                                          'FICO '\n",
       "                                                                          'Score',\n",
       "                                                                          'Num '\n",
       "                                                                          'Credit '\n",
       "                                                                          'Cards',\n",
       "                                                                          'Cards '\n",
       "                                                                          'Issued',\n",
       "                                                                          'Ag...\n",
       "                                                      monotone_constraints=None,\n",
       "                                                      multi_strategy=None,\n",
       "                                                      n_estimators=None,\n",
       "                                                      n_jobs=None,\n",
       "                                                      num_parallel_tree=None,\n",
       "                                                      random_state=42, ...))]),\n",
       "             n_jobs=1,\n",
       "             param_grid={'classifier__colsample_bytree': [0.8, 1.0],\n",
       "                         'classifier__learning_rate': [0.01, 0.1, 0.2],\n",
       "                         'classifier__max_depth': [3, 6, 10],\n",
       "                         'classifier__n_estimators': [100, 200],\n",
       "                         'classifier__subsample': [0.8, 1.0]},\n",
       "             scoring='accuracy')"
      ]
     },
     "execution_count": 9,
     "metadata": {},
     "output_type": "execute_result"
    }
   ],
   "source": [
    "# Perform grid search with the pipeline, reduced n_jobs, and error_score='raise' for detailed errors\n",
    "grid_search = GridSearchCV(pipeline, param_grid, cv=5, scoring='accuracy', n_jobs=1, error_score='raise')\n",
    "grid_search.fit(X_train, y_train)"
   ]
  },
  {
   "cell_type": "code",
   "execution_count": 10,
   "metadata": {},
   "outputs": [
    {
     "name": "stdout",
     "output_type": "stream",
     "text": [
      "\n",
      "Best Parameters:\n",
      "{'classifier__colsample_bytree': 0.8, 'classifier__learning_rate': 0.1, 'classifier__max_depth': 6, 'classifier__n_estimators': 200, 'classifier__subsample': 0.8}\n"
     ]
    }
   ],
   "source": [
    "# Best parameters and estimator\n",
    "best_params = grid_search.best_params_\n",
    "best_estimator = grid_search.best_estimator_\n",
    "\n",
    "print(\"\\nBest Parameters:\")\n",
    "print(best_params)"
   ]
  },
  {
   "cell_type": "code",
   "execution_count": 11,
   "metadata": {},
   "outputs": [
    {
     "name": "stdout",
     "output_type": "stream",
     "text": [
      "Model saved to trained_model100_xgboost.joblib\n",
      "Model loaded successfully\n"
     ]
    }
   ],
   "source": [
    "# Save the model\n",
    "model_filename = 'trained_model100_xgboost.joblib'\n",
    "joblib.dump(best_estimator, model_filename)\n",
    "print(f\"Model saved to {model_filename}\")\n",
    "\n",
    "# Load the model\n",
    "loaded_model = joblib.load(model_filename)\n",
    "print(\"Model loaded successfully\")"
   ]
  },
  {
   "cell_type": "code",
   "execution_count": 12,
   "metadata": {},
   "outputs": [
    {
     "name": "stdout",
     "output_type": "stream",
     "text": [
      "\n",
      "Classification Report (XGBoost):\n",
      "              precision    recall  f1-score   support\n",
      "\n",
      "           0       1.00      0.92      0.96    240503\n",
      "           1       0.01      0.93      0.02       224\n",
      "\n",
      "    accuracy                           0.92    240727\n",
      "   macro avg       0.51      0.93      0.49    240727\n",
      "weighted avg       1.00      0.92      0.96    240727\n",
      "\n",
      "Confusion Matrix (XGBoost):\n",
      "[[221697  18806]\n",
      " [    15    209]]\n",
      "Accuracy Score (XGBoost):\n",
      "0.9218159990362527\n"
     ]
    }
   ],
   "source": [
    "# Predict using the loaded model\n",
    "y_pred_loaded = loaded_model.predict(X_test)\n",
    "\n",
    "# Evaluation\n",
    "print('\\nClassification Report (XGBoost):')\n",
    "print(classification_report(y_test, y_pred_loaded))\n",
    "print('Confusion Matrix (XGBoost):')\n",
    "print(confusion_matrix(y_test, y_pred_loaded))\n",
    "print('Accuracy Score (XGBoost):')\n",
    "print(accuracy_score(y_test, y_pred_loaded))"
   ]
  },
  {
   "cell_type": "code",
   "execution_count": 13,
   "metadata": {},
   "outputs": [
    {
     "data": {
      "image/png": "[encoded data removed]",
      "text/plain": [
       "<Figure size 640x480 with 2 Axes>"
      ]
     },
     "metadata": {},
     "output_type": "display_data"
    }
   ],
   "source": [
    "import matplotlib.pyplot as plt\n",
    "from sklearn.metrics import confusion_matrix, ConfusionMatrixDisplay\n",
    "\n",
    "# Predicting on the training set\n",
    "y_test_pred = loaded_model.predict(X_test)\n",
    "\n",
    "# Generating the confusion matrix\n",
    "cm = confusion_matrix(y_test, y_test_pred)\n",
    "\n",
    "# Displaying the confusion matrix\n",
    "disp = ConfusionMatrixDisplay(confusion_matrix=cm)\n",
    "disp.plot()\n",
    "\n",
    "plt.show()"
   ]
  },
  {
   "cell_type": "code",
   "execution_count": 14,
   "metadata": {},
   "outputs": [
    {
     "name": "stdout",
     "output_type": "stream",
     "text": [
      "Amount: 134.09\n",
      "Use Chip: Swipe Transaction\n",
      "Merchant State: CA\n",
      "Errors?: No Error\n",
      "Per Capita Income - Zipcode: 29278\n",
      "Yearly Income - Person: 59696\n",
      "Total Debt: 127613\n",
      "FICO Score: 787\n",
      "Num Credit Cards: 5\n",
      "Has Chip: 1\n",
      "Cards Issued: 2\n",
      "International: 0\n",
      "Online: 0\n",
      "Age_at_transaction: 36\n",
      "income_to_debt: 0.4677893281422008\n",
      "day_of_week: 6\n",
      "time_of_day: Morning\n",
      "distances: 0.0\n",
      "Prediction: 0\n"
     ]
    }
   ],
   "source": [
    "# Drop the target column and select the first row as a DataFrame\n",
    "x = df.drop(columns=[\"Is Fraud?\"]).iloc[[0]]\n",
    "\n",
    "# Predict using the loaded model\n",
    "prediction = loaded_model.predict(x)\n",
    "\n",
    "# Create a dictionary from the selected row\n",
    "pred_dict = x.iloc[0].to_dict()\n",
    "\n",
    "# Print the dictionary items\n",
    "for key, value in pred_dict.items():\n",
    "    print(f\"{key}: {value}\")\n",
    "\n",
    "# Print the prediction\n",
    "print(f\"Prediction: {prediction[0]}\")"
   ]
  },
  {
   "cell_type": "code",
   "execution_count": 15,
   "metadata": {},
   "outputs": [
    {
     "name": "stdout",
     "output_type": "stream",
     "text": [
      "Amount: 287.13\n",
      "Use Chip: Online Transaction\n",
      "Merchant State: Online Transaction\n",
      "Errors?: No Error\n",
      "Per Capita Income - Zipcode: 29278\n",
      "Yearly Income - Person: 59696\n",
      "Total Debt: 127613\n",
      "FICO Score: 787\n",
      "Num Credit Cards: 5\n",
      "Has Chip: 1\n",
      "Cards Issued: 2\n",
      "International: 0\n",
      "Online: 1\n",
      "Age_at_transaction: 49\n",
      "income_to_debt: 0.4677893281422008\n",
      "day_of_week: 6\n",
      "time_of_day: Afternoon\n",
      "distances: 0.0\n",
      "Prediction: 1\n"
     ]
    }
   ],
   "source": [
    "# Select a row with 'Is Fraud?' == 1\n",
    "fraud_row = df[df[\"Is Fraud?\"] == 1].iloc[[0]]  # We can change the index if you have multiple fraud rows\n",
    "\n",
    "# Drop the target column from the selected row\n",
    "x_fraud = fraud_row.drop(columns=[\"Is Fraud?\"])\n",
    "\n",
    "# Predict using the loaded model\n",
    "prediction_fraud = loaded_model.predict(x_fraud)\n",
    "\n",
    "# Create a dictionary from the selected row\n",
    "pred_dict_fraud = x_fraud.iloc[0].to_dict()\n",
    "\n",
    "# Print the dictionary items\n",
    "for key, value in pred_dict_fraud.items():\n",
    "    print(f\"{key}: {value}\")\n",
    "\n",
    "# Print the prediction\n",
    "print(f\"Prediction: {prediction_fraud[0]}\")"
   ]
  }
 ],
 "metadata": {
  "kernelspec": {
   "display_name": "py10",
   "language": "python",
   "name": "python3"
  },
  "language_info": {
   "codemirror_mode": {
    "name": "ipython",
    "version": 3
   },
   "file_extension": ".py",
   "mimetype": "text/x-python",
   "name": "python",
   "nbconvert_exporter": "python",
   "pygments_lexer": "ipython3",
   "version": "3.10.9"
  }
 },
 "nbformat": 4,
 "nbformat_minor": 2
}
