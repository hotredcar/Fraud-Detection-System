{
 "cells": [
  {
   "cell_type": "code",
   "execution_count": 1,
   "metadata": {},
   "outputs": [],
   "source": [
    "# Import Necessary Libraries \n",
    "import pandas as pd\n",
    "import numpy as np\n",
    "from sklearn.model_selection import train_test_split\n",
    "from sklearn.preprocessing import StandardScaler, OneHotEncoder\n",
    "from sklearn.compose import ColumnTransformer\n",
    "from sklearn.pipeline import Pipeline\n",
    "from sklearn.ensemble import RandomForestClassifier\n",
    "from sklearn.metrics import classification_report, confusion_matrix, accuracy_score"
   ]
  },
  {
   "cell_type": "code",
   "execution_count": 6,
   "metadata": {},
   "outputs": [
    {
     "data": {
      "text/html": [
       "<div>\n",
       "<style scoped>\n",
       "    .dataframe tbody tr th:only-of-type {\n",
       "        vertical-align: middle;\n",
       "    }\n",
       "\n",
       "    .dataframe tbody tr th {\n",
       "        vertical-align: top;\n",
       "    }\n",
       "\n",
       "    .dataframe thead th {\n",
       "        text-align: right;\n",
       "    }\n",
       "</style>\n",
       "<table border=\"1\" class=\"dataframe\">\n",
       "  <thead>\n",
       "    <tr style=\"text-align: right;\">\n",
       "      <th></th>\n",
       "      <th>User</th>\n",
       "      <th>Card</th>\n",
       "      <th>Month</th>\n",
       "      <th>Day</th>\n",
       "      <th>Time</th>\n",
       "      <th>Use Chip</th>\n",
       "      <th>Merchant City</th>\n",
       "      <th>MCC</th>\n",
       "      <th>Errors?</th>\n",
       "      <th>Is Fraud?</th>\n",
       "      <th>...</th>\n",
       "      <th>Num Credit Cards</th>\n",
       "      <th>Age Group</th>\n",
       "      <th>CARD INDEX</th>\n",
       "      <th>Card Brand</th>\n",
       "      <th>Card Type</th>\n",
       "      <th>Has Chip</th>\n",
       "      <th>Cards Issued</th>\n",
       "      <th>Credit Limit</th>\n",
       "      <th>Year PIN last Changed</th>\n",
       "      <th>Card on Dark Web</th>\n",
       "    </tr>\n",
       "  </thead>\n",
       "  <tbody>\n",
       "    <tr>\n",
       "      <th>0</th>\n",
       "      <td>0</td>\n",
       "      <td>0</td>\n",
       "      <td>1</td>\n",
       "      <td>5</td>\n",
       "      <td>06:02</td>\n",
       "      <td>Chip Transaction</td>\n",
       "      <td>Princeton</td>\n",
       "      <td>5411</td>\n",
       "      <td>Insufficient Balance</td>\n",
       "      <td>No</td>\n",
       "      <td>...</td>\n",
       "      <td>5</td>\n",
       "      <td>46-60</td>\n",
       "      <td>0</td>\n",
       "      <td>Visa</td>\n",
       "      <td>Debit</td>\n",
       "      <td>YES</td>\n",
       "      <td>2</td>\n",
       "      <td>$24295</td>\n",
       "      <td>2008</td>\n",
       "      <td>No</td>\n",
       "    </tr>\n",
       "    <tr>\n",
       "      <th>1</th>\n",
       "      <td>0</td>\n",
       "      <td>0</td>\n",
       "      <td>1</td>\n",
       "      <td>5</td>\n",
       "      <td>06:02</td>\n",
       "      <td>Chip Transaction</td>\n",
       "      <td>Princeton</td>\n",
       "      <td>5411</td>\n",
       "      <td>Insufficient Balance</td>\n",
       "      <td>No</td>\n",
       "      <td>...</td>\n",
       "      <td>5</td>\n",
       "      <td>46-60</td>\n",
       "      <td>1</td>\n",
       "      <td>Visa</td>\n",
       "      <td>Debit</td>\n",
       "      <td>YES</td>\n",
       "      <td>2</td>\n",
       "      <td>$21968</td>\n",
       "      <td>2014</td>\n",
       "      <td>No</td>\n",
       "    </tr>\n",
       "    <tr>\n",
       "      <th>2</th>\n",
       "      <td>0</td>\n",
       "      <td>0</td>\n",
       "      <td>1</td>\n",
       "      <td>5</td>\n",
       "      <td>06:02</td>\n",
       "      <td>Chip Transaction</td>\n",
       "      <td>Princeton</td>\n",
       "      <td>5411</td>\n",
       "      <td>Insufficient Balance</td>\n",
       "      <td>No</td>\n",
       "      <td>...</td>\n",
       "      <td>5</td>\n",
       "      <td>46-60</td>\n",
       "      <td>2</td>\n",
       "      <td>Visa</td>\n",
       "      <td>Debit</td>\n",
       "      <td>YES</td>\n",
       "      <td>2</td>\n",
       "      <td>$46414</td>\n",
       "      <td>2004</td>\n",
       "      <td>No</td>\n",
       "    </tr>\n",
       "    <tr>\n",
       "      <th>3</th>\n",
       "      <td>0</td>\n",
       "      <td>0</td>\n",
       "      <td>1</td>\n",
       "      <td>5</td>\n",
       "      <td>06:02</td>\n",
       "      <td>Chip Transaction</td>\n",
       "      <td>Princeton</td>\n",
       "      <td>5411</td>\n",
       "      <td>Insufficient Balance</td>\n",
       "      <td>No</td>\n",
       "      <td>...</td>\n",
       "      <td>5</td>\n",
       "      <td>46-60</td>\n",
       "      <td>3</td>\n",
       "      <td>Visa</td>\n",
       "      <td>Credit</td>\n",
       "      <td>NO</td>\n",
       "      <td>1</td>\n",
       "      <td>$12400</td>\n",
       "      <td>2012</td>\n",
       "      <td>No</td>\n",
       "    </tr>\n",
       "    <tr>\n",
       "      <th>4</th>\n",
       "      <td>0</td>\n",
       "      <td>0</td>\n",
       "      <td>1</td>\n",
       "      <td>5</td>\n",
       "      <td>06:02</td>\n",
       "      <td>Chip Transaction</td>\n",
       "      <td>Princeton</td>\n",
       "      <td>5411</td>\n",
       "      <td>Insufficient Balance</td>\n",
       "      <td>No</td>\n",
       "      <td>...</td>\n",
       "      <td>5</td>\n",
       "      <td>46-60</td>\n",
       "      <td>4</td>\n",
       "      <td>Mastercard</td>\n",
       "      <td>Debit (Prepaid)</td>\n",
       "      <td>YES</td>\n",
       "      <td>1</td>\n",
       "      <td>$28</td>\n",
       "      <td>2009</td>\n",
       "      <td>No</td>\n",
       "    </tr>\n",
       "  </tbody>\n",
       "</table>\n",
       "<p>5 rows × 26 columns</p>\n",
       "</div>"
      ],
      "text/plain": [
       "   User  Card  Month  Day   Time          Use Chip Merchant City   MCC  \\\n",
       "0     0     0      1    5  06:02  Chip Transaction     Princeton  5411   \n",
       "1     0     0      1    5  06:02  Chip Transaction     Princeton  5411   \n",
       "2     0     0      1    5  06:02  Chip Transaction     Princeton  5411   \n",
       "3     0     0      1    5  06:02  Chip Transaction     Princeton  5411   \n",
       "4     0     0      1    5  06:02  Chip Transaction     Princeton  5411   \n",
       "\n",
       "                Errors? Is Fraud?  ... Num Credit Cards  Age Group CARD INDEX  \\\n",
       "0  Insufficient Balance        No  ...                5      46-60          0   \n",
       "1  Insufficient Balance        No  ...                5      46-60          1   \n",
       "2  Insufficient Balance        No  ...                5      46-60          2   \n",
       "3  Insufficient Balance        No  ...                5      46-60          3   \n",
       "4  Insufficient Balance        No  ...                5      46-60          4   \n",
       "\n",
       "   Card Brand        Card Type  Has Chip  Cards Issued Credit Limit  \\\n",
       "0        Visa            Debit       YES             2       $24295   \n",
       "1        Visa            Debit       YES             2       $21968   \n",
       "2        Visa            Debit       YES             2       $46414   \n",
       "3        Visa           Credit        NO             1       $12400   \n",
       "4  Mastercard  Debit (Prepaid)       YES             1          $28   \n",
       "\n",
       "   Year PIN last Changed Card on Dark Web  \n",
       "0                   2008               No  \n",
       "1                   2014               No  \n",
       "2                   2004               No  \n",
       "3                   2012               No  \n",
       "4                   2009               No  \n",
       "\n",
       "[5 rows x 26 columns]"
      ]
     },
     "execution_count": 6,
     "metadata": {},
     "output_type": "execute_result"
    }
   ],
   "source": [
    "# Load and Explore Dataset\n",
    "# Load the dataset\n",
    "data = pd.read_csv('data/final_merged_data.csv')\n",
    "\n",
    "# Explore the dataset\n",
    "data.head()"
   ]
  },
  {
   "cell_type": "code",
   "execution_count": null,
   "metadata": {},
   "outputs": [],
   "source": [
    "# Explore the dataset\n",
    "data.head()"
   ]
  },
  {
   "cell_type": "code",
   "execution_count": null,
   "metadata": {},
   "outputs": [],
   "source": [
    "data.info()"
   ]
  },
  {
   "cell_type": "code",
   "execution_count": null,
   "metadata": {},
   "outputs": [],
   "source": [
    "data.describe()"
   ]
  },
  {
   "cell_type": "code",
   "execution_count": null,
   "metadata": {},
   "outputs": [],
   "source": [
    "data.isnull().sum()"
   ]
  },
  {
   "cell_type": "code",
   "execution_count": null,
   "metadata": {},
   "outputs": [],
   "source": [
    "data.shape"
   ]
  },
  {
   "cell_type": "code",
   "execution_count": null,
   "metadata": {},
   "outputs": [],
   "source": [
    "data_dropna = data.dropna()"
   ]
  },
  {
   "cell_type": "code",
   "execution_count": null,
   "metadata": {},
   "outputs": [],
   "source": [
    "data_dropna.shape"
   ]
  },
  {
   "cell_type": "code",
   "execution_count": null,
   "metadata": {},
   "outputs": [],
   "source": [
    "# Define features and target variable\n",
    "features = ['User', 'Card', 'Month', 'Day', 'Time', 'Use Chip', 'Merchant City', 'MCC', \n",
    "            'Errors?', 'City', 'Zipcode', 'Per Capita Income - Zipcode', 'Yearly Income - Person', \n",
    "            'Total Debt', 'FICO Score', 'Num Credit Cards', 'Age Group', 'CARD INDEX', 'Card Brand', \n",
    "            'Card Type', 'Has Chip', 'Cards Issued', 'Credit Limit', 'Year PIN last Changed', \n",
    "            'Card on Dark Web']\n",
    "target = 'Is Fraud?'"
   ]
  },
  {
   "cell_type": "code",
   "execution_count": null,
   "metadata": {},
   "outputs": [],
   "source": [
    "X = data_dropna[features].copy()\n",
    "y = data_dropna[target].copy()"
   ]
  },
  {
   "cell_type": "code",
   "execution_count": null,
   "metadata": {},
   "outputs": [],
   "source": [
    "# Clean numerical columns by removing '$' and ',' from the 'Per Capita Income - Zipcode' and 'Yearly Income - Person' columns and convert them to float\n",
    "X.loc[:, 'Per Capita Income - Zipcode'] = X['Per Capita Income - Zipcode'].replace('[\\$,]', '', regex=True).astype(float)\n",
    "X.loc[:, 'Yearly Income - Person'] = X['Yearly Income - Person'].replace('[\\$,]', '', regex=True).astype(float)\n"
   ]
  },
  {
   "cell_type": "code",
   "execution_count": null,
   "metadata": {},
   "outputs": [],
   "source": [
    "# Clean numerical columns by removing '$' and ',' from the 'Per Capita Income - Zipcode' and 'Yearly Income - Person' columns and convert them to float\n",
    "X['Per Capita Income - Zipcode'] = X['Per Capita Income - Zipcode'].replace('[\\$,]', '', regex=True).astype(float)\n",
    "X['Yearly Income - Person'] = X['Yearly Income - Person'].replace('[\\$,]', '', regex=True).astype(float)\n"
   ]
  },
  {
   "cell_type": "code",
   "execution_count": null,
   "metadata": {},
   "outputs": [],
   "source": [
    "# Define categorical and numerical columns\n",
    "categorical_cols = ['User', 'Card', 'Month', 'Day', 'Time', 'Use Chip', 'Merchant City', \n",
    "                    'Errors?', 'City', 'Age Group', 'Card Brand', 'Card Type', 'Has Chip', \n",
    "                    'Card on Dark Web']\n",
    "numerical_cols = ['MCC', 'Zipcode', 'Per Capita Income - Zipcode', 'Yearly Income - Person', \n",
    "                  'Total Debt', 'FICO Score', 'Num Credit Cards', 'CARD INDEX', 'Cards Issued', \n",
    "                  'Credit Limit', 'Year PIN last Changed']"
   ]
  },
  {
   "cell_type": "code",
   "execution_count": null,
   "metadata": {},
   "outputs": [],
   "source": [
    "# Preprocessing pipeline\n",
    "preprocessor = ColumnTransformer(\n",
    "    transformers=[\n",
    "        ('num', StandardScaler(), numerical_cols),\n",
    "        ('cat', OneHotEncoder(handle_unknown='ignore'), categorical_cols)\n",
    "    ])"
   ]
  },
  {
   "cell_type": "code",
   "execution_count": null,
   "metadata": {},
   "outputs": [],
   "source": [
    "# Define the model 1 - option 1\n",
    "model = Pipeline(steps=[\n",
    "    ('preprocessor', preprocessor),\n",
    "    ('classifier', LogisticRegression(max_iter=1000, random_state=42))\n",
    "])"
   ]
  },
  {
   "cell_type": "code",
   "execution_count": null,
   "metadata": {},
   "outputs": [],
   "source": [
    "# Define the model - option 2\n",
    "model = Pipeline(steps=[\n",
    "    ('preprocessor', preprocessor),\n",
    "    ('classifier', RandomForestClassifier(n_estimators=100, max_features='auto', max_depth=10, criterion='gini', random_state=42))\n",
    "])"
   ]
  },
  {
   "cell_type": "code",
   "execution_count": null,
   "metadata": {},
   "outputs": [],
   "source": [
    "# Define the model - option 3\n",
    "model = Pipeline(steps=[\n",
    "    ('preprocessor', preprocessor),\n",
    "    ('classifier', xgb.XGBClassifier(n_estimators=100, max_depth=10, learning_rate=0.1, random_state=42))\n",
    "])"
   ]
  },
  {
   "cell_type": "code",
   "execution_count": null,
   "metadata": {},
   "outputs": [],
   "source": [
    "# Split the data into training and testing sets\n",
    "X_train, X_test, y_train, y_test = train_test_split(X, y, test_size=0.3, random_state=42)\n",
    "\n",
    "# Train the model\n",
    "model.fit(X_train, y_train)\n",
    "\n",
    "# Make predictions\n",
    "y_pred = model.predict(X_test)\n",
    "\n",
    "# Model evaluation\n",
    "print(confusion_matrix(y_test, y_pred))\n",
    "print(classification_report(y_test, y_pred))\n",
    "print(f'Accuracy: {accuracy_score(y_test, y_pred)}')"
   ]
  }
 ],
 "metadata": {
  "kernelspec": {
   "display_name": "dev",
   "language": "python",
   "name": "python3"
  },
  "language_info": {
   "codemirror_mode": {
    "name": "ipython",
    "version": 3
   },
   "file_extension": ".py",
   "mimetype": "text/x-python",
   "name": "python",
   "nbconvert_exporter": "python",
   "pygments_lexer": "ipython3",
   "version": "3.10.9"
  }
 },
 "nbformat": 4,
 "nbformat_minor": 2
}
